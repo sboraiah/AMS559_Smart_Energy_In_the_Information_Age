{
 "cells": [
  {
   "cell_type": "code",
   "execution_count": 131,
   "metadata": {},
   "outputs": [],
   "source": [
    "import numpy as np\n",
    "import pandas as pd\n",
    "import os\n",
    "from dateutil.parser import parse\n",
    "import matplotlib.pyplot as plt\n",
    "from math import radians, cos, sin, asin, sqrt\n",
    "from scipy.stats import pearsonr\n",
    "from sklearn.linear_model import LinearRegression as LR\n",
    "import re\n",
    "import random\n",
    "from  datetime import datetime\n",
    "from datetime import timedelta\n",
    "from sklearn.metrics import mean_squared_error, r2_score, mean_absolute_error\n",
    "import logging\n",
    "from sklearn.ensemble import RandomForestRegressor as RF\n",
    "import warnings\n",
    "warnings.filterwarnings('ignore')"
   ]
  },
  {
   "cell_type": "code",
   "execution_count": 111,
   "metadata": {},
   "outputs": [],
   "source": [
    "data_path = 'data/Year1/'\n",
    "home_paths = ['Home1_yr1.csv', 'Home2_yr1.csv', 'Home3_yr1.csv', 'Home4_yr1.csv', 'Home5_yr1.csv', \\\n",
    "              'Home6_yr1.csv', 'Home7_yr1.csv', 'Home8_yr1.csv', 'Home9_yr1.csv', 'Home10_yr1.csv']\n",
    "\n",
    "TIME_BEGIN = datetime(2014,12,1)\n",
    "TIME_END = datetime(2015,12,1)\n",
    "TIME_DELTA = timedelta(0,0,0,0,15) #15 minutes delta\n",
    "\n",
    "MIN_INPUT = 96 #entries in a day\n",
    "MAX_INPUT = 34944 #max_minutes - 1 day\n",
    "DAY_MINUTES = 96 #entry count in a day"
   ]
  },
  {
   "cell_type": "code",
   "execution_count": 134,
   "metadata": {},
   "outputs": [],
   "source": [
    "def get_data(path, count=None):\n",
    "    train_df =  pd.read_csv(path, nrows=count, header=None)\n",
    "    return train_df"
   ]
  },
  {
   "cell_type": "code",
   "execution_count": 135,
   "metadata": {},
   "outputs": [],
   "source": [
    "home_dfs = []\n",
    "for home_path in home_paths:\n",
    "    home_dfs.append (get_data(data_path + home_path))"
   ]
  },
  {
   "cell_type": "code",
   "execution_count": 136,
   "metadata": {},
   "outputs": [],
   "source": [
    "#building time features\n",
    "curtime = TIME_BEGIN\n",
    "\n",
    "\n",
    "month_list = []\n",
    "day_list = [] #day of month\n",
    "weekday_list = []\n",
    "minute_list = []\n",
    "\n",
    "\n",
    "while curtime < TIME_END:\n",
    "    month_list.append(curtime.month)\n",
    "    day_list.append(curtime.day)\n",
    "    weekday_list.append(curtime.isoweekday())\n",
    "    minute_list.append(curtime.hour*60 + curtime.minute)\n",
    "    \n",
    "    curtime += TIME_DELTA"
   ]
  },
  {
   "cell_type": "code",
   "execution_count": 101,
   "metadata": {},
   "outputs": [],
   "source": [
    "#enrich data with time features\n",
    "#features considered : month, day_of_month, day_of_week, minute\n",
    "date_df = pd.DataFrame()\n",
    "date_df['month'] = month_list\n",
    "date_df['day'] = day_list\n",
    "date_df['weekday'] = weekday_list\n",
    "date_df['minute'] = minute_list"
   ]
  },
  {
   "cell_type": "code",
   "execution_count": 102,
   "metadata": {},
   "outputs": [],
   "source": [
    "X = date_df"
   ]
  },
  {
   "cell_type": "code",
   "execution_count": 112,
   "metadata": {},
   "outputs": [
    {
     "name": "stdout",
     "output_type": "stream",
     "text": [
      "Input Timeslot in entry index: 1232354235\n",
      "Timeslot considered is: 34944\n"
     ]
    }
   ],
   "source": [
    "timeslot = int(input('Input Timeslot in entry index: '))\n",
    "\n",
    "if timeslot > MAX_INPUT:\n",
    "    timeslot = MAX_INPUT\n",
    "\n",
    "if timeslot < MIN_INPUT:\n",
    "    timeslot = MIN_INPUT\n",
    "    \n",
    "print ('Timeslot considered is: ' + str(timeslot))"
   ]
  },
  {
   "cell_type": "code",
   "execution_count": null,
   "metadata": {},
   "outputs": [],
   "source": [
    "X_train = X[:timeslot]\n",
    "X_test = X[timeslot:timeslot+DAY_MINUTES]"
   ]
  },
  {
   "cell_type": "code",
   "execution_count": 129,
   "metadata": {},
   "outputs": [
    {
     "name": "stdout",
     "output_type": "stream",
     "text": [
      "MODEL : LINEAR REGRESSION\n",
      "MAE: House[1], 1.3842771912426108\n",
      "MAE: House[2], 1.6575772741759216\n",
      "MAE: House[3], 1.757195698276184\n",
      "MAE: House[4], 0.8508289271089308\n",
      "MAE: House[5], 1.6159036257161234\n",
      "MAE: House[6], 1.0995928273446747\n",
      "MAE: House[7], 1.7165909204053094\n",
      "MAE: House[8], 1.6850882502435782\n",
      "MAE: House[9], 1.264611838218349\n",
      "MAE: House[10], 1.3748836072516915\n"
     ]
    }
   ],
   "source": [
    "# Linear Regression\n",
    "print ('MODEL : LINEAR REGRESSION')\n",
    "linReg = LR (normalize=True, n_jobs=-1) #n_jobs=-1 uses all the cpus\n",
    "\n",
    "i = 1\n",
    "for home in home_dfs:\n",
    "    Y_train = home[0][:timeslot]\n",
    "    Y_test = home[0][timeslot:timeslot+DAY_MINUTES]\n",
    "    \n",
    "    linReg.fit(X_train,Y_train)\n",
    "    Y_pred_linear = linReg.predict(X_test)\n",
    "    print ('MAE: House[' + str(i) + '], ' + str(mean_absolute_error(Y_pred_linear, Y_test)))\n",
    "    i += 1"
   ]
  },
  {
   "cell_type": "code",
   "execution_count": 132,
   "metadata": {},
   "outputs": [
    {
     "name": "stdout",
     "output_type": "stream",
     "text": [
      "MODEL : RANDOM FOREST\n",
      "MAE: House[1], 1.1018142677083334\n",
      "MAE: House[2], 1.4142444208333333\n",
      "MAE: House[3], 1.0788536979166667\n",
      "MAE: House[4], 0.8294385572916667\n",
      "MAE: House[5], 1.0180408385416666\n",
      "MAE: House[6], 1.0075472694444445\n",
      "MAE: House[7], 1.0564943020833333\n",
      "MAE: House[8], 1.2987328552083335\n",
      "MAE: House[9], 0.7396080083333333\n",
      "MAE: House[10], 1.1589714322916664\n"
     ]
    }
   ],
   "source": [
    "print ('MODEL : RANDOM FOREST')\n",
    "rand_forest_reg = RF(random_state=0, n_jobs = -1, n_estimators = 10, oob_score = True)\n",
    "\n",
    "i = 1\n",
    "for home in home_dfs:\n",
    "    Y_train = home[0][:timeslot]\n",
    "    Y_test = home[0][timeslot:timeslot+DAY_MINUTES]\n",
    "    rand_forest_reg.fit (X_train, Y_train)\n",
    "    Y_pred_rf = rand_forest_reg.predict(X_test)\n",
    "    print ('MAE: House[' + str(i) + '], ' + str(mean_absolute_error(Y_pred_rf, Y_test)))\n",
    "    i += 1"
   ]
  }
 ],
 "metadata": {
  "kernelspec": {
   "display_name": "Python 3",
   "language": "python",
   "name": "python3"
  },
  "language_info": {
   "codemirror_mode": {
    "name": "ipython",
    "version": 3
   },
   "file_extension": ".py",
   "mimetype": "text/x-python",
   "name": "python",
   "nbconvert_exporter": "python",
   "pygments_lexer": "ipython3",
   "version": "3.6.5"
  }
 },
 "nbformat": 4,
 "nbformat_minor": 2
}
